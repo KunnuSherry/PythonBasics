{
 "cells": [
  {
   "cell_type": "code",
   "execution_count": 15,
   "id": "9f12873d-ed45-451f-a380-a37708ef2e97",
   "metadata": {},
   "outputs": [],
   "source": [
    "import numpy as np\n",
    "arr = np.array([[1,2,3], [4,5,6]])   #Method of creating an array\n",
    "arr.shape                            #dimension of an array\n",
    "arr.reshape(3,2)                     #for reshaping an array\n",
    "arr1 = np.arange(0,10, step=2)       #for creating a 1-d array\n",
    "arr2 = np.linspace(0,10,20)          #will create 20 elements 1-d array between 0 to 10\n",
    "arrOnes = np.ones(4)                 #will create an array of all ones\n",
    "arr3 = np.random.rand(3,3)           #between 0 and 1\n",
    "arr4 = np.random.randn(4,4)          #randn generates numbers from a normal distribution with a mean of 0 and a standard deviation of 1\n",
    "arr5 = np.random.randint(0,100,8)    #1-d array of 8 numbers between 0 and 100"
   ]
  },
  {
   "cell_type": "code",
   "execution_count": null,
   "id": "a700b06f-a7ec-4eaa-94ea-8136aadb801f",
   "metadata": {},
   "outputs": [],
   "source": []
  }
 ],
 "metadata": {
  "kernelspec": {
   "display_name": "Python 3 (ipykernel)",
   "language": "python",
   "name": "python3"
  },
  "language_info": {
   "codemirror_mode": {
    "name": "ipython",
    "version": 3
   },
   "file_extension": ".py",
   "mimetype": "text/x-python",
   "name": "python",
   "nbconvert_exporter": "python",
   "pygments_lexer": "ipython3",
   "version": "3.12.4"
  }
 },
 "nbformat": 4,
 "nbformat_minor": 5
}
